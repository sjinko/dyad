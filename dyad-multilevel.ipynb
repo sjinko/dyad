{
 "cells": [
  {
   "cell_type": "markdown",
   "metadata": {},
   "source": [
    "# DyAD Multilevel\n",
    "This notebook presents a multilevel development of Dyadic Agreement Modeling or DyAD (Koseki, 2018: https://doi.org/10.1371/journal.pone.0208227)\n",
    "\n",
    "This version of DyAD models political agreement and disagreement between agents different levels:\n",
    "* Voting individuals\n",
    "* Elected officials\n",
    "* Political parties\n",
    "* Communal populations\n",
    "* Cantonal populations\n",
    "\n",
    "I measure agreement over federal votes using the following data:\n",
    "* FORS > Vox data (voting individuals)\n",
    "* ... > ... (Elected officials) (cf. email by UZH prof.)\n",
    "* Federal Chancellerie > Political parties recommendations (political parties)\n",
    "* BFS > Official voting results by commune (communal and cantonal populations)\n",
    "\n"
   ]
  },
  {
   "cell_type": "code",
   "execution_count": null,
   "metadata": {},
   "outputs": [],
   "source": [
    "# import data for voting individuals\n"
   ]
  }
 ],
 "metadata": {
  "kernelspec": {
   "display_name": "Python 3",
   "language": "python",
   "name": "python3"
  },
  "language_info": {
   "codemirror_mode": {
    "name": "ipython",
    "version": 3
   },
   "file_extension": ".py",
   "mimetype": "text/x-python",
   "name": "python",
   "nbconvert_exporter": "python",
   "pygments_lexer": "ipython3",
   "version": "3.7.3"
  }
 },
 "nbformat": 4,
 "nbformat_minor": 2
}
